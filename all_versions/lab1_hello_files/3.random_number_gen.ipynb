{
 "cells": [
  {
   "cell_type": "markdown",
   "metadata": {},
   "source": [
    "# Random Number Generation (Lab 1, part 3)\n",
    "\n",
    "** Your goal in this last part of the lab is to write a function called random_nums that takes a number as input and writes out that many randomly generated numbers taken from a normal (Gaussian) distribution with a mean and standard deviation also as given as input to the function.  The numbers should be written to a file called \"numbers.txt\", one number per line. **\n",
    "\n",
    "Below are some functions demonstrating how to use the random number generator library and types.  Read through and try to understand these before attempting to write your main function for this part of the lab.  You are welcome to use these functions to build up your larger function.  To determine how to get numbers from a normal distribution you should look at the Python documentation for the random library: <https://docs.python.org/2/library/random.html>"
   ]
  },
  {
   "cell_type": "code",
   "execution_count": 15,
   "metadata": {
    "collapsed": false
   },
   "outputs": [],
   "source": [
    "import random\n",
    "\n",
    "def get_uniform(low, high):\n",
    "    num = random.uniform(low, high)\n",
    "    return num\n",
    "    \n",
    "def num_to_str(num):\n",
    "    print type(num)\n",
    "    str_num = \"number:\" + str(num) + \"\\n\"\n",
    "    print type(str_num)\n",
    "    return str_num\n",
    "    "
   ]
  },
  {
   "cell_type": "markdown",
   "metadata": {},
   "source": [
    "** Write your random_nums function below. **"
   ]
  },
  {
   "cell_type": "markdown",
   "metadata": {},
   "source": [
    "** Remember to git add, git commit -a, and git push your work to hand it in!  Go back to part 1 if you'd like a reminder of these commands. **"
   ]
  }
 ],
 "metadata": {
  "kernelspec": {
   "display_name": "Python 2",
   "language": "python",
   "name": "python2"
  },
  "language_info": {
   "codemirror_mode": {
    "name": "ipython",
    "version": 2
   },
   "file_extension": ".py",
   "mimetype": "text/x-python",
   "name": "python",
   "nbconvert_exporter": "python",
   "pygments_lexer": "ipython2",
   "version": "2.7.5"
  }
 },
 "nbformat": 4,
 "nbformat_minor": 0
}
