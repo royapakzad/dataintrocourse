{
 "cells": [
  {
   "cell_type": "markdown",
   "metadata": {},
   "source": [
    "# For loops, lists, and files (Lab 1, part 2)\n",
    "\n",
    "In this part of the lab you'll be working with for loops and lists.  Again, you'll start by commenting some code to explain what it does.  Start by reading the code and inserting comments that are your best guess of what is happening, paying special attention to any new terms.  Then run the code and adjust the comments.  Remember that you can run the code cells to find out what they do either from the above menu or by entering Control-Enter.  It's also ok to add function calls so that you can see what happens.\n",
    "\n",
    "## Lists\n",
    "\n",
    "** 1) Add comments to the below code explaining what it does. **"
   ]
  },
  {
   "cell_type": "code",
   "execution_count": 12,
   "metadata": {
    "collapsed": false
   },
   "outputs": [],
   "source": [
    "def small_list_v1(one, two, three):\n",
    "    list = [one, two, three]\n",
    "    print list\n",
    "\n",
    "def small_list_v2(one, two, three):\n",
    "    list = []\n",
    "    list.append(one)\n",
    "    list.append(two)\n",
    "    list.append(three)\n",
    "    print list\n",
    "\n",
    "def small_list_v3(num):\n",
    "    list = range(0, num)\n",
    "    print list\n",
    "    "
   ]
  },
  {
   "cell_type": "markdown",
   "metadata": {},
   "source": [
    "** 2) Create a function (in a code cell below this one) that makes a list with the words \"this\", \"is\", \"a\", and \"list\" and prints out the resulting list. **"
   ]
  },
  {
   "cell_type": "markdown",
   "metadata": {},
   "source": [
    "## Function return values\n",
    "\n",
    "As we've seen so far, functions can print information and write to a file.  Functions can also return values to be used by other functions - this is actually the normal use of functions.\n",
    "\n",
    "** 3) Add comments to the below code explaining what it does.  Function level (\"\"\") comments should always include a description of what the function takes as input (parameters), what it does, and what it returns. **\n",
    "\n",
    "As usual, you are welcome to add function calls and try running the code to understand what it does."
   ]
  },
  {
   "cell_type": "code",
   "execution_count": 14,
   "metadata": {
    "collapsed": false
   },
   "outputs": [],
   "source": [
    "def unknown_function(unknown_parameter):\n",
    "    unknown_variable = range(0, unknown_parameter)\n",
    "    return unknown_variable\n",
    "\n",
    "def unknown_function2():\n",
    "    unknown_variable = unknown_function(5)\n",
    "    print unknown_variable"
   ]
  },
  {
   "cell_type": "markdown",
   "metadata": {},
   "source": [
    "** 4) Make a function below that puts the number 4 on the end of a given list and returns the, now larger, list. **"
   ]
  },
  {
   "cell_type": "markdown",
   "metadata": {},
   "source": [
    "## For loops\n",
    "\n",
    "For loops allow us to iterate one-by-one through a list of values.  (More truthfully, for loops can iterate through anything that, like a list, has a natural order and for which Python has defined an iterator that tells the for loop what comes first and what comes next.  But for now we'll only see for loops in the context of lists and, in a bit, files.)\n",
    "\n",
    "** 5) Comment the below functions. **"
   ]
  },
  {
   "cell_type": "code",
   "execution_count": 22,
   "metadata": {
    "collapsed": false
   },
   "outputs": [],
   "source": [
    "def unknown_function3(given_list):\n",
    "    for val in given_list:\n",
    "        print val\n",
    "\n",
    "def unknown_function4():\n",
    "    unknown_variable = range(0, 6)\n",
    "    unknown_variable2 = []\n",
    "    for i in unknown_variable:\n",
    "        unknown_variable2.append(i)\n",
    "    return unknown_variable2\n"
   ]
  },
  {
   "cell_type": "markdown",
   "metadata": {},
   "source": [
    "** 6) Make a function that prints \"hi\" 5 times. **"
   ]
  },
  {
   "cell_type": "markdown",
   "metadata": {},
   "source": [
    "## For loops and files\n",
    "\n",
    "What we really care about for this lab is being able to read from and write to files.  For loops can help us do that!\n",
    "\n",
    "** 7) Comment the below function. **"
   ]
  },
  {
   "cell_type": "code",
   "execution_count": 31,
   "metadata": {
    "collapsed": false
   },
   "outputs": [],
   "source": [
    "def unknown_function5(words_list):\n",
    "    f = open(\"words_list.txt\", \"w\")\n",
    "    for word in words_list:\n",
    "        f.write(word)\n",
    "    f.close()\n"
   ]
  },
  {
   "cell_type": "markdown",
   "metadata": {},
   "source": [
    "When dealing with strings, it's nice to be able to add spaces.  New lines are indicated by \"\\n\" and tabs by \"\\t\".  We can concatenate strings with the + operation.\n",
    "\n",
    "** 8) Modify the above function so that each word in the list is on its own line. **\n",
    "\n",
    "As mentioned briefly above, files can also be iterated through easily in Python.\n",
    "\n",
    "** 9) Comment the below function. **\n",
    "\n",
    "Notice that print naturally adds a \"\\n\" at the end of each string printed."
   ]
  },
  {
   "cell_type": "code",
   "execution_count": 30,
   "metadata": {
    "collapsed": false
   },
   "outputs": [],
   "source": [
    "def unknown_function6(filename):\n",
    "    f = open(filename, \"r\")\n",
    "    for line in f:\n",
    "        print line\n",
    "    f.close()\n",
    "        "
   ]
  },
  {
   "cell_type": "markdown",
   "metadata": {},
   "source": [
    "Move on to the last part of the lab in the random_number_gen notebook!"
   ]
  }
 ],
 "metadata": {
  "kernelspec": {
   "display_name": "Python 2",
   "language": "python",
   "name": "python2"
  },
  "language_info": {
   "codemirror_mode": {
    "name": "ipython",
    "version": 2
   },
   "file_extension": ".py",
   "mimetype": "text/x-python",
   "name": "python",
   "nbconvert_exporter": "python",
   "pygments_lexer": "ipython2",
   "version": "2.7.5"
  }
 },
 "nbformat": 4,
 "nbformat_minor": 0
}
