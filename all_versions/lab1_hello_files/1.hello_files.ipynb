{
 "cells": [
  {
   "cell_type": "markdown",
   "metadata": {},
   "source": [
    "# Welcome to your first lab assignment!\n",
    "\n",
    "There are **bold faced, numbered** tasks listed below.  Read through the assignment, doing the tasks as you get to them.\n",
    "\n",
    "If you're reading this, then you've already figured out how to install (if on your own computer) and run jupyter from the command line.  Great!  You'll need to start jupyter each time you want to work on a lab assignment by running the command:\n",
    "> jupyter notebook\n",
    "\n",
    "From the launched browser, as you found, you'll need to navigate to the directory containing these lab files."
   ]
  },
  {
   "cell_type": "markdown",
   "metadata": {},
   "source": [
    "## Documentation\n",
    "\n",
    "Documentation of your code, or explaining to other people what it does and how it works, is an important part of programming and data analysis.  So important that we're starting our first lab with it!  That's also why you're using jupyter - there are many other choices of IDE (integrated development environment) that we could be using, jupyter is nice because it makes documentation easy and therefore more likely.\n",
    "\n",
    "There are a lot of purposes of documentation, and a lot of things that good documentation should be sure to include.  We have a suggested full list of questions your documentation should answer up on the course website at:\n",
    "\n",
    "> <http://www.cs.haverford.edu/courses/cmsc104/documentation.pdf>\n",
    "\n",
    "**1) Your first task for this lab is to read the linked pdf.**\n",
    "\n",
    "As you become more comfortable with coding and documentation, we'll expect you to more strictly adhere to those guidelines.  For now, you should read with an eye to understanding the goal of the questions asked (which we'll discuss more in class) and internalizing the goal of programming for communication.\n",
    "\n",
    "But the first step is to learn how to add documentation at all!\n",
    "\n",
    "### Adding documentation in jupyter\n",
    "\n",
    "These paragraphs you've been reading are my documentation to you of how to do this lab.  How did I add them?  Happily, that's pretty easy.  Just go to:\n",
    "> Insert -> Insert Cell Below\n",
    "\n",
    "and then choose \"Markdown\" from the dropdown menu also above.  That gives you a cell where you can write in Markdown.\n",
    "\n",
    "But what's Markdown?  Markdown is a lightweight markup lanuage that let's you make text look good.  It's a lot like HTML if you're familiar with that.  If not, no worries.  You can start by simply writing text and it will show up.  To add some formatting, like you see above, try out various options that you can find at this [Markdown cheatsheet](https://github.com/adam-p/markdown-here/wiki/Markdown-Cheatsheet).\n",
    "\n",
    "**2) Create a new markdown cell below this one.  In it, write a paragraph introducing yourself to me, the lab instructor, and the TAs.  Why are you taking this class?  What's something you're interested in (broadly)?  Be sure to include at least two formatting elements that are not just basic plain text.**\n",
    "\n",
    "Oh - and to get the formatted text to appear type Control-Enter.  To go back to editing the text, double-click."
   ]
  },
  {
   "cell_type": "markdown",
   "metadata": {},
   "source": [
    "### Comments\n",
    "\n",
    "The type of documentation you just added is good for high-level documentation of your code.  If you want to explain what a specific function does or what a specific line of code does, you should use comments.  In Python, there are two types of comments, one usually used for larger blocks of comments (explaining a full function) and another used for inline comments (explaining a line of code).  The larger blocks are written with triple double quotes (\"\"\") around them while the smaller comments start with a #.\n",
    "\n",
    "For example, take a look at this Python code:"
   ]
  },
  {
   "cell_type": "code",
   "execution_count": 12,
   "metadata": {
    "collapsed": true
   },
   "outputs": [],
   "source": [
    "\"\"\"\n",
    "This function takes an input filename and writes \"Hello, File!\" out to that file.\n",
    "\"\"\"\n",
    "def write_file(filename):    # define the function named write_out and tell it to take as input a variable filename\n",
    "    f = open(filename, \"w\")  # open the file for writing (\"w\")\n",
    "    f.write(\"Hello, File!\")  # write the actual string \"Hello, File!\" to the open file\n",
    "    f.close()                # close the file\n",
    "\n",
    "# no longer indented, so the function has ended"
   ]
  },
  {
   "cell_type": "markdown",
   "metadata": {},
   "source": [
    "Normally, we wouldn't include all of those per-line comments - that's way too verbose!  I've just included them so that you can learn what each of those lines does.\n",
    "\n",
    "Above, we only defined the function, we didn't actually call it with a specific file name, so we don't yet have a file that says \"Hello, File!\".  We'll do that now:"
   ]
  },
  {
   "cell_type": "code",
   "execution_count": 20,
   "metadata": {
    "collapsed": false
   },
   "outputs": [],
   "source": [
    "write_file(\"hello_file.txt\")"
   ]
  },
  {
   "cell_type": "markdown",
   "metadata": {},
   "source": [
    "You'll need to run the above cell (using Control-Enter or the run icon in the menu) to get the above code to do something.  Then, if you navigate in jupyter to the directory where you found this hello_files lab, you should now see a file called \"hello_file.txt\".  Open it!  You should see the \"Hello, File!\" text there!\n",
    "\n",
    "** 3) Add an inline (#) comment to the above line of code explaining (briefly) what it does.**\n",
    "\n",
    "Note that jupyter, and most IDEs, adds color highlighting to code.  Consider what the different colors in the two code cells above mean.\n",
    "\n",
    "** 4) Consider the next function, read_file, below.  Add comments (both large \"\"\" indicated comments and smaller line-by-line # comments) to explain what the function is doing. **\n",
    "\n",
    "Note that I've given the function and the variables useful names.  I could have called the variable \"filename\" by the name \"x\", but that wouldn't have been as easy for you to understand when trying to read the function I wrote.  Good variable names are an important part of documentation as well!\n",
    "\n",
    "(If you're having trouble figuring out what this function does, you might want to skip ahead to where we'll call the function, and then come back to explain it later.)"
   ]
  },
  {
   "cell_type": "code",
   "execution_count": 16,
   "metadata": {
    "collapsed": true
   },
   "outputs": [],
   "source": [
    "def read_file(filename):\n",
    "    f = open(filename, \"r\")\n",
    "    print f.readline()"
   ]
  },
  {
   "cell_type": "markdown",
   "metadata": {},
   "source": [
    "## Calling functions\n",
    "\n",
    "Ok!  You're now ready to write some basic code!  Above, I wrote the function read_file, but we never called the function, so we never got to see what the file contained.\n",
    "\n",
    "** 5) Add a code cell below that calls read_file on the file that we used write_file to create earlier.  Remember to use Control-Enter or the run cell icon above to run your code so that you can see the output. **\n",
    "\n",
    "You might not get it right on the first try.  If not, you'll see an error message appear below your cell.  *Read it!*  It's normal not to write code correctly on the first try - the error messages are designed to help you understand where you went wrong.  Getting good at reading error messages is an important part of *debugging*, and debugging is how programmers spend most of our time.  Keep working on trying to call the function until you think it's working."
   ]
  },
  {
   "cell_type": "markdown",
   "metadata": {},
   "source": [
    "## Creating functions\n",
    "\n",
    "It'd be nice to be able to write strings other than \"Hello, File!\" to a file.\n",
    "\n",
    "** 6) Create a new function in a code cell below that takes two parameters as input, one that's (still) the filename, and the other that's any string, and write that string to the given file.  In that same code cell, call the function twice with different filenames and strings. **"
   ]
  },
  {
   "cell_type": "markdown",
   "metadata": {},
   "source": [
    "## Saving and handing in your work!\n",
    "\n",
    "We're not done with this lab yet, but you've done some good work!  You should save it by clicking the save icon above.  Nicely, jupyter will also help you revert to previous versions if it turns out you messed up and want to go back in time.  Try this out - first, *save and checkpoint your work.*  Then add a markdown cell below this one with some filler text.  Then under File choose Revert to Checkpoint and press the red revert button when it appears.  The filler text should go away.\n",
    "\n",
    "However, this saving and checkpointing only happened with your local copy of this work.  I couldn't see it!  This means that you haven't successfully handed the work in.  To do that in git you need to run the following commands from your main git directory (the base directory for this class) from the command line:\n",
    "1.  Add any new files that should be tracked using:\n",
    "    > git add filename\n",
    "    \n",
    "    this should include any of the files that you generated with your code above since you want to hand those in too!\n",
    "2.  Commit (save) the changes you made to any files that git knows about using:\n",
    "    > git commit -a\n",
    "    \n",
    "    this will commit all changes and will warn you if any files are not being tracked (go back to 1 if so).  Commit still only saves your changes to the local computer.\n",
    "3.  Push your changes to the server so that they can be retrieved from any computing (importantly including by the TAs):\n",
    "    > git push\n",
    "    \n",
    "** 7) Use the above commands to hand in the work you've done so far.  Be sure to read the messages on the command line.  These will let you know if you've done this successfully or will give you git's best guess about what you need to do in order to successfully hand in the work. **\n",
    "\n",
    "That's it for the first part of the lab!  Head over to the file for_loops for the next part of Lab 1."
   ]
  }
 ],
 "metadata": {
  "kernelspec": {
   "display_name": "Python 2",
   "language": "python",
   "name": "python2"
  },
  "language_info": {
   "codemirror_mode": {
    "name": "ipython",
    "version": 2
   },
   "file_extension": ".py",
   "mimetype": "text/x-python",
   "name": "python",
   "nbconvert_exporter": "python",
   "pygments_lexer": "ipython2",
   "version": "2.7.5"
  }
 },
 "nbformat": 4,
 "nbformat_minor": 0
}
