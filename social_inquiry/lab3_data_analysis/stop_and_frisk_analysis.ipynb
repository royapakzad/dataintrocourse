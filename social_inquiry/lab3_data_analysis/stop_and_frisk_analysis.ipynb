{
 "cells": [
  {
   "cell_type": "markdown",
   "metadata": {},
   "source": [
    "# Stop & Frisk Data Analysis"
   ]
  },
  {
   "cell_type": "markdown",
   "metadata": {},
   "source": [
    "In this lab we're going to continue to explore the NYC Stop & Frisk data from 2012.  Start by moving the CSV file you downloaded for lab 2 into this directory.  Still - DO NOT add the CSV to git!"
   ]
  },
  {
   "cell_type": "markdown",
   "metadata": {},
   "source": [
    "## Setup...\n",
    "\n",
    "Importing and doing other setup."
   ]
  },
  {
   "cell_type": "code",
   "execution_count": 30,
   "metadata": {
    "collapsed": false
   },
   "outputs": [
    {
     "name": "stdout",
     "output_type": "stream",
     "text": [
      "Populating the interactive namespace from numpy and matplotlib\n"
     ]
    }
   ],
   "source": [
    "# a library that gives us exciting visualization tools!\n",
    "import seaborn  \n",
    "\n",
    "# make the visualizations show up in jupyter\n",
    "%pylab inline"
   ]
  },
  {
   "cell_type": "markdown",
   "metadata": {},
   "source": [
    "The same get_data function as in the last lab:"
   ]
  },
  {
   "cell_type": "code",
   "execution_count": 31,
   "metadata": {
    "collapsed": true
   },
   "outputs": [],
   "source": [
    "\"\"\"\n",
    "Takes a filename and returns your data.\n",
    "For example, with a file that looks like this:\n",
    "header1, header2, header3\n",
    "1,2,3\n",
    "4,5,6\n",
    "\n",
    "You could get the first row, second header item like this:\n",
    "dict = get_data(\"temp.csv\")\n",
    "print dict[1][\"header2\"]\n",
    "\n",
    "For the interested, the returned data is a dictionary of dictionaries.  We'll see this more in future weeks.\n",
    "\"\"\"\n",
    "def get_data(filename):\n",
    "    filepointer = open(filename, \"r\")\n",
    "    data = []\n",
    "    \n",
    "    # get_header, inline instead of calling the function above so that the file continues reading\n",
    "    # from the line right after the header in the for loop below.\n",
    "    line = filepointer.readline()\n",
    "    header = line.strip().split(\",\")\n",
    "\n",
    "    for line in filepointer:\n",
    "        fields = line.strip().split(\",\")\n",
    "\n",
    "        # Unfortunately, split will split at some commas that we don't mean to split on (e.g., if they've\n",
    "        # been written into addresses) so we check below to make sure we have the expected number of fields\n",
    "        # and throw out any other data.  We shouldn't really be throwing out data, we should be fixing the\n",
    "        # actual problem, but for the purposes of this lab, this will do.\n",
    "        if (len(fields) == len(header)):\n",
    "            row = {}\n",
    "            for fieldNumber in range(len(fields)):\n",
    "                row[header[fieldNumber]] = fields[fieldNumber]\n",
    "            data.append(row)\n",
    "            \n",
    "    filepointer.close()\n",
    "    return data"
   ]
  },
  {
   "cell_type": "markdown",
   "metadata": {},
   "source": [
    "## Let's examine age\n",
    "We're going to start by continuing our exploration from the last lab of the attribute age."
   ]
  },
  {
   "cell_type": "code",
   "execution_count": 32,
   "metadata": {
    "collapsed": false
   },
   "outputs": [],
   "source": [
    "# Read in the data from the file where you've stored it (change the file name as necessary):\n",
    "data = get_data(\"SQF_2012.csv\")"
   ]
  },
  {
   "cell_type": "markdown",
   "metadata": {},
   "source": [
    "** 1) It's going to be useful to be able to get a *column* from the data.  In order to do that, you should make a function that takes the data and a column name and returns a list of everything in that column.  You'll need to make one version of this function for each *type* column that we're interested in, since you should return a list where the data items are of the correct type.**\n",
    "\n",
    "** 2) Once you've made that function, use it to get the column of ages. **"
   ]
  },
  {
   "cell_type": "markdown",
   "metadata": {},
   "source": [
    "** 3) Use seaborn's distplot and boxplot functions to graph the age column. **"
   ]
  },
  {
   "cell_type": "markdown",
   "metadata": {},
   "source": [
    "** 4) Describe what you notice about the above plots. **"
   ]
  },
  {
   "cell_type": "markdown",
   "metadata": {},
   "source": [
    "** 5) Decide what entries should be removed and re-plot the data (both distplot and boxplot) without those ages. **"
   ]
  },
  {
   "cell_type": "markdown",
   "metadata": {},
   "source": [
    "** 6) Instead of removing the unknown ages, replace them first with the mean and second with a random value from the age column (not including the bogus values).  Then, again, use distplot and box plot to look at the results.  Describe what you see. **"
   ]
  },
  {
   "cell_type": "markdown",
   "metadata": {},
   "source": [
    "## Now let's examine race"
   ]
  },
  {
   "cell_type": "markdown",
   "metadata": {},
   "source": [
    "** 7) Create a histogram showing the number of stops per race. **"
   ]
  },
  {
   "cell_type": "markdown",
   "metadata": {},
   "source": [
    "** 8) Design and implement a visualization that will let you examine the percent of weapons found in stops per race. **"
   ]
  }
 ],
 "metadata": {
  "kernelspec": {
   "display_name": "Python 2",
   "language": "python",
   "name": "python2"
  },
  "language_info": {
   "codemirror_mode": {
    "name": "ipython",
    "version": 2
   },
   "file_extension": ".py",
   "mimetype": "text/x-python",
   "name": "python",
   "nbconvert_exporter": "python",
   "pygments_lexer": "ipython2",
   "version": "2.7.5"
  }
 },
 "nbformat": 4,
 "nbformat_minor": 0
}
