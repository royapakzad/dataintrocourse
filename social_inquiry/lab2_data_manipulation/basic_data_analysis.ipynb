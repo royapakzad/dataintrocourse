{
 "cells": [
  {
   "cell_type": "markdown",
   "metadata": {},
   "source": [
    "# Lab 2 - basic data analysis\n",
    "\n",
    "This will be the first lab that we use real-world data for.  We've downloaded it for you already and put it in this directory.  It's called: \"SQF_2012.csv\".  Anytime you use real-world data it's important to explain:\n",
    "\n",
    "1. Where to find the data publicly (if possible).\n",
    "2. How the data was collected and what the attributes mean.\n",
    "3. Any additional processing you did to the data.\n",
    "\n",
    "So here are the answers to those questions:\n",
    "* The data came from <http://www.nyclu.org/files/stopandfrisk/Stop-and-Frisk-2012.zip>.\n",
    "* A full description of the data can be found at: <http://www.nyclu.org/files/SQF_Codebook.pdf>.\n",
    "* The data in SQF_2012.csv appears exactly as downloaded from the NYCLU.\n",
    "\n",
    "**As in the first lab, your job will be to do the tasks indicated in bold below.**\n",
    "\n",
    "These will lead you through a basic data analysis of this data - we'll be continuing to examine the data in the next lab as well."
   ]
  },
  {
   "cell_type": "markdown",
   "metadata": {},
   "source": [
    "First, here's a function that we'll use to get data out of csv files.  Read it and try to understand what it's doing.  Note especially the line with a comment using some built-in functions that are new to you since the last lab."
   ]
  },
  {
   "cell_type": "code",
   "execution_count": 15,
   "metadata": {
    "collapsed": true
   },
   "outputs": [],
   "source": [
    "\"\"\"\n",
    "Takes a filename and returns the header of the file.\n",
    "For example, with a file that looks like this the first line will be returned in a list.\n",
    "header1, header2, header3\n",
    "1,2,3\n",
    "4,5,6\n",
    "\n",
    "\"\"\"\n",
    "def get_header(filename):\n",
    "    filepointer = open(filename, \"r\")\n",
    "    line = filepointer.readline()\n",
    "    # The header line includes the \"\\n\" at the end of the line.  This is removed using strip().\n",
    "    # The resulting line is then split at the \",\"s and stored in a list by split(\",\").\n",
    "    header = line.strip().split(\",\")\n",
    "    filepointer.close()\n",
    "    return header\n"
   ]
  },
  {
   "cell_type": "markdown",
   "metadata": {},
   "source": [
    "** 1) Get the column names (header list) and print them out. **\n",
    "\n",
    "As usual, add a code cell below this and do your work there.  Remember that you ned to run the cell above in order to have access to that function."
   ]
  },
  {
   "cell_type": "markdown",
   "metadata": {},
   "source": [
    "** 2) Programmatically print the 10th column name below. **\n",
    "\n",
    "Hint: double check your work by counting by hand above to make sure you *actually* found the *10th* column name."
   ]
  },
  {
   "cell_type": "markdown",
   "metadata": {},
   "source": [
    "Below you'll find code to read a file into a data structure (in this case, a list of dictionaries) for accessing the data.  You'll notice some similarity with the code for reading the header."
   ]
  },
  {
   "cell_type": "code",
   "execution_count": 67,
   "metadata": {
    "collapsed": true
   },
   "outputs": [],
   "source": [
    "\"\"\"\n",
    "Takes a filename and returns your data.\n",
    "For example, with a file that looks like this:\n",
    "header1, header2, header3\n",
    "1,2,3\n",
    "4,5,6\n",
    "\n",
    "You could get the first row, second header item like this:\n",
    "dict = get_data(\"temp.csv\")\n",
    "print dict[1][\"header2\"]\n",
    "\n",
    "For the interested, the returned data is a dictionary of dictionaries.  We'll see this more in future weeks.\n",
    "\"\"\"\n",
    "def get_data(filename):\n",
    "    filepointer = open(filename, \"r\")\n",
    "    data = []\n",
    "    \n",
    "    # get_header, inline instead of calling the function above so that the file continues reading\n",
    "    # from the line right after the header in the for loop below.\n",
    "    line = filepointer.readline()\n",
    "    header = line.strip().split(\",\")\n",
    "\n",
    "    for line in filepointer:\n",
    "        fields = line.strip().split(\",\")\n",
    "\n",
    "        # Unfortunately, split will split at some commas that we don't mean to split on (e.g., if they've\n",
    "        # been written into addresses) so we check below to make sure we have the expected number of fields\n",
    "        # and throw out any other data.  We shouldn't really be throwing out data, we should be fixing the\n",
    "        # actual problem, but for the purposes of this lab, this will do.\n",
    "        if (len(fields) == len(header)):\n",
    "            row = {}\n",
    "            for fieldNumber in range(len(fields)):\n",
    "                row[header[fieldNumber]] = fields[fieldNumber]\n",
    "            data.append(row)\n",
    "            \n",
    "    filepointer.close()\n",
    "    return data"
   ]
  },
  {
   "cell_type": "markdown",
   "metadata": {},
   "source": [
    "** 3) Now use this function to read in our file. **\n",
    "\n",
    "Note that the file is big!  So far, everything you've programmed in this class has happened seemingly instantaneously.  This time, you may have to wait a bit (count to 100 before getting nervous).  You'll know that the data is still being read in because the left of the code cell will have a * instead of a number like usual."
   ]
  },
  {
   "cell_type": "code",
   "execution_count": 79,
   "metadata": {
    "collapsed": false
   },
   "outputs": [],
   "source": [
    "data = # TODO"
   ]
  },
  {
   "cell_type": "markdown",
   "metadata": {},
   "source": [
    "Each row of this list is an individual record.  For example, the sixth row:"
   ]
  },
  {
   "cell_type": "code",
   "execution_count": 81,
   "metadata": {
    "collapsed": false
   },
   "outputs": [],
   "source": [
    "data[5]"
   ]
  },
  {
   "cell_type": "markdown",
   "metadata": {},
   "source": [
    "We can access specific attribute values using the names in the header:"
   ]
  },
  {
   "cell_type": "code",
   "execution_count": 82,
   "metadata": {
    "collapsed": false
   },
   "outputs": [],
   "source": [
    "data[5][\"age\"]"
   ]
  },
  {
   "cell_type": "markdown",
   "metadata": {},
   "source": [
    "** 4) Was anyone stopped on 4/20/2012?  Write a function to find out the answer. **"
   ]
  },
  {
   "cell_type": "markdown",
   "metadata": {},
   "source": [
    "** 5) How many people in the data were frisked? **\n",
    "\n",
    "Note that these next questions that ask you to go through all the records in the data set and count something will also take awhile.  Be patient!"
   ]
  },
  {
   "cell_type": "markdown",
   "metadata": {},
   "source": [
    "** 6) What percent of the people stopped (i.e., people in the data) were also frisked? **"
   ]
  },
  {
   "cell_type": "markdown",
   "metadata": {},
   "source": [
    "** 7) What percent of the people stopped were arrested? **"
   ]
  },
  {
   "cell_type": "markdown",
   "metadata": {},
   "source": [
    "** 8) What percent of people stopped did NOT have a weapon (0 for columns: pistol, riflshot, asltweap, knifcuti, machgun, othrweap)? **\n"
   ]
  },
  {
   "cell_type": "markdown",
   "metadata": {},
   "source": [
    "** 9) What percent of people stopped had a weapon, but NOT a gun of any kind? **"
   ]
  },
  {
   "cell_type": "markdown",
   "metadata": {},
   "source": [
    "** 10) What percent of people stopped had multiple guns? **"
   ]
  },
  {
   "cell_type": "markdown",
   "metadata": {},
   "source": [
    "** 11) How many people were frisked and arrested on 4/20/2012? **"
   ]
  },
  {
   "cell_type": "markdown",
   "metadata": {},
   "source": [
    "** 12) Write a get_column_statistics function that takes the data and a column name and finds the min, max, and mean of that column over all the data and returns them.**\n",
    "\n",
    "You can return all three at once like this:\n",
    "> return min, max, mean\n",
    "\n",
    "which can then be called like this:\n",
    "\n",
    "> min, max, mean = get_column_statistics(data, column_name)\n",
    "\n",
    "Note that for some columns, like date, it wouldn't make sense to use this function.  You may assume that no one would be silly enough to try.  A better programming practice would be to check first to make sure that the data is of the right type (a number) before trying to take the min, max, or mean.  For **extra credit** you may make your function more robust so that it appropriately checks the type before doing the calculation."
   ]
  },
  {
   "cell_type": "code",
   "execution_count": 83,
   "metadata": {
    "collapsed": false
   },
   "outputs": [],
   "source": [
    "get_column_statistics(data,\"age\")"
   ]
  },
  {
   "cell_type": "markdown",
   "metadata": {},
   "source": [
    "** 13) What do you notice that's unusual / questionable about the above results for age? **\n",
    "\n",
    "We'll pick up on exploring what's going on here in the next lab!"
   ]
  }
 ],
 "metadata": {
  "kernelspec": {
   "display_name": "Python 2",
   "language": "python",
   "name": "python2"
  },
  "language_info": {
   "codemirror_mode": {
    "name": "ipython",
    "version": 2
   },
   "file_extension": ".py",
   "mimetype": "text/x-python",
   "name": "python",
   "nbconvert_exporter": "python",
   "pygments_lexer": "ipython2",
   "version": "2.7.5"
  }
 },
 "nbformat": 4,
 "nbformat_minor": 0
}
