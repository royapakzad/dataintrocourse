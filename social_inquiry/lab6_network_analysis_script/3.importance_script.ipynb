{
 "cells": [
  {
   "cell_type": "markdown",
   "metadata": {},
   "source": [
    "# 3. Creating a network importance calculation script\n",
    "\n",
    "** Create a script that takes a csv of data as the input and outputs a .jpg file with the nodes sized by importance. **\n",
    "\n",
    "Specifically, the input to your script should be:  \n",
    "* a filename for the location of the graph input data that you will use to programmatically create a graph  \n",
    "* the type of importance to calculate (degree or betweenness centrality)  \n",
    "* a filename for the output .jpg graph that will be created\n",
    "\n",
    "You will need to create the code to parse the input arguments, then create your graph and node objects from the given csv, determine importance as indicated, and write the output to the given .jpg filename.  Note that the dot command to generate a .jpg as given in the previous lab assumes the filename stubs are the same (i.e., simple.dot and simple.jpg have the same stub \"simple\"), so you'll need to do some work to get this to work with different filenames.  You can run a statement on the command line from within a python script by importing the module \"subprocess\" and using the function \"call\".  Like this (which will print the word \"hello\" to the screen using the command \"echo\"):\n",
    "> import subprocess  \n",
    "> subprocess.call([\"echo\",\"hello\"])\n",
    "\n",
    "You should do all of this in a .py file - you can create one by using this .ipynb file and then downloading it as a .py file (that doesn't start with a 3).  Once written, you should be able to test it on the command line by navigating in terminal to this directory and running:  \n",
    "> python importance_script.py input.csv graph.jpg --importance degree\n",
    "\n",
    "You should also make sure that when the script is run without arguments (`python importance_script.py`) it outputs useful help information.\n",
    "\n",
    "Add a flag `run_tests` that runs all of the tests you created in the previous section.  When run like this:\n",
    "> python importance_script.py --run_tests  \n",
    "\n",
    "it should output:\n",
    "> All tests pass!\n",
    "\n",
    "Add a flag `reproduce_lab6` that uses built-in defaults to output both of the graphs you created in part one.  You should be able to test this by running:\n",
    "> python importance_script.py --reproduce_lab6  \n",
    "\n",
    "on the command line.  The script should output the full command that it is running (i.e., the correct two `python importance_script.py input.csv graph.jpg --importance degree` style commands) as the first two lines of output of the script, explaining that this is the command the `reproduce_lab6` flag is running."
   ]
  }
 ],
 "metadata": {
  "kernelspec": {
   "display_name": "Python 2",
   "language": "python",
   "name": "python2"
  },
  "language_info": {
   "codemirror_mode": {
    "name": "ipython",
    "version": 2
   },
   "file_extension": ".py",
   "mimetype": "text/x-python",
   "name": "python",
   "nbconvert_exporter": "python",
   "pygments_lexer": "ipython2",
   "version": "2.7.5"
  }
 },
 "nbformat": 4,
 "nbformat_minor": 0
}
