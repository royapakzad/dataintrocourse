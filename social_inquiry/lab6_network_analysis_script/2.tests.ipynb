{
 "cells": [
  {
   "cell_type": "markdown",
   "metadata": {},
   "source": [
    "# 2. Tests\n",
    "\n",
    "Use [doctest](https://docs.python.org/2/library/doctest.html) to add tests to your network importance script.\n",
    "\n",
    "** 0) Make sure your degree centrality and betweenness centrality calculation methods do not rely on anything specific to your data and will run correctly on any graph.  Import your graph and importance calculations into this program.  **"
   ]
  },
  {
   "cell_type": "markdown",
   "metadata": {},
   "source": [
    "** 1) Create a small graph on which you can easily calculate the degree centrality and betweenness centrality by hand and be sure of your answers.  Make this graph into a graph object using your Graph class. **"
   ]
  },
  {
   "cell_type": "markdown",
   "metadata": {},
   "source": [
    "** 2) Calculate the degree centrality and betweenness centrality of your graph using the methods you wrote previously.  Make sure you get the same answer as you got by hand. **"
   ]
  },
  {
   "cell_type": "markdown",
   "metadata": {},
   "source": [
    "** 3) Use doctest to make the test you've written above (creating a graph and checking the centrality calculations) a doctest in the degree centrality method and the betweenness centrality method.  Make sure the test passes! **"
   ]
  },
  {
   "cell_type": "markdown",
   "metadata": {},
   "source": [
    "** 4) Add at least two more tests to both the degree centrality and betweenness centrality calculation methods and make sure these pass too.  Try to consider unusual situations that should be tested, such as when a node has no neighbors. **"
   ]
  }
 ],
 "metadata": {
  "kernelspec": {
   "display_name": "Python 2",
   "language": "python",
   "name": "python2"
  },
  "language_info": {
   "codemirror_mode": {
    "name": "ipython",
    "version": 2
   },
   "file_extension": ".py",
   "mimetype": "text/x-python",
   "name": "python",
   "nbconvert_exporter": "python",
   "pygments_lexer": "ipython2",
   "version": "2.7.5"
  }
 },
 "nbformat": 4,
 "nbformat_minor": 0
}
