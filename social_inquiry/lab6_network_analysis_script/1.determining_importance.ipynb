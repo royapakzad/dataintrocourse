{
 "cells": [
  {
   "cell_type": "markdown",
   "metadata": {},
   "source": [
    "# 1. Network Importance\n",
    "\n",
    "\n",
    "** 0) Make sure that your graph objects and dot writing methods from the previous lab work.  You'll be building on those here. **\n",
    "\n",
    "** 1) Add methods to the graph objects that you developed for the last lab that allow you to calculate the degree centrality for each node in the graph. (You will need to copy your graph and node classes into this lab or import them as a module.)**"
   ]
  },
  {
   "cell_type": "markdown",
   "metadata": {},
   "source": [
    "** 2) Calculate the degree centrality for each node in the graph and store it in the node objects. **"
   ]
  },
  {
   "cell_type": "markdown",
   "metadata": {},
   "source": [
    "** 3) Add the degree centrality to the dot output of your graph so that nodes in your graph that have higher values of degree centrality are bigger.  ** \n",
    "\n",
    "You can do this, by adding these attributes to the dot output:\n",
    "\n",
    "> [shape=circle,width=1,fixedsize=true]\n",
    "\n",
    "I believe the units for width are in inches, so you may want to think carefully about how to scale the degree centrality measure so that it shows up as a reasonable size."
   ]
  },
  {
   "cell_type": "markdown",
   "metadata": {},
   "source": [
    "** 4) Create the .jpg version of the graph you created in the previous lab (using your survey data), but now sized by degree centrality.  ** \n",
    "\n",
    "Be sure to git add this .jpg file in this directory - call it \"degree_centrality.jpg\". If you included a lot of labels, you may need to adjust your node widths or re-make decisions about what to include in a label in order for the words to fit inside the drawn nodes."
   ]
  },
  {
   "cell_type": "markdown",
   "metadata": {},
   "source": [
    "** 5) Which nodes have highest degree centrality and why? **"
   ]
  },
  {
   "cell_type": "markdown",
   "metadata": {},
   "source": [
    "** 6) Now add methods to your node and graph objects to calculate the betweenness centrality of each node in the graph. **\n",
    "\n",
    "Recall our discussion in class of how to calculate the shortest path between two nodes using networkx.  In order to do this, you will also need to create a networkx representation of your graph.  You will likely want to do this in additional methods within your Graph class."
   ]
  },
  {
   "cell_type": "markdown",
   "metadata": {},
   "source": [
    "** 7) Repeat steps 2-4 above for betweenness centrality.  Call the saved and git added .jpg file \"betweenness_centrality.jpg\". **"
   ]
  },
  {
   "cell_type": "markdown",
   "metadata": {},
   "source": [
    "** 8) Which nodes have the highest betweenness centrality and why?  Is this different or the same as the degree centrality and why?  What have you learned about your graph / survey from this analysis? **"
   ]
  }
 ],
 "metadata": {
  "kernelspec": {
   "display_name": "Python 2",
   "language": "python",
   "name": "python2"
  },
  "language_info": {
   "codemirror_mode": {
    "name": "ipython",
    "version": 2
   },
   "file_extension": ".py",
   "mimetype": "text/x-python",
   "name": "python",
   "nbconvert_exporter": "python",
   "pygments_lexer": "ipython2",
   "version": "2.7.5"
  }
 },
 "nbformat": 4,
 "nbformat_minor": 0
}
