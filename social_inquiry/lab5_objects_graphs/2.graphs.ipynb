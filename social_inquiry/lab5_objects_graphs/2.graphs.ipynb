{
 "cells": [
  {
   "cell_type": "markdown",
   "metadata": {},
   "source": [
    "# 2. Graphs and personal data\n",
    "\n",
    "## Representing data as a graph\n",
    "\n",
    "Go back to exploring the data you collected in the previous part of this lab by hand.\n",
    "\n",
    "** 1) What attributes do people share?  Model a subset of the information as a hand-drawn graph (you won't be handing this in, but will be using it for later questions).  Explain what kind of data made the most sense to model as a graph?  What features did you make nodes vs. edges and why? What kind of data is best for representing as a graph? **"
   ]
  },
  {
   "cell_type": "markdown",
   "metadata": {},
   "source": [
    "** 2) Write down the portion of your data that's relevant to the graph in a parseable format - some format that you know how to read in and where you could programmatically determine which things are nodes and edges. **\n",
    "You could either choose to do this by:  \n",
    "a) determining your edges by hand and writing down both the nodes and edges (e.g., by using a csv with one column for the start node of an edge and the other column for the end nodes - you'd need to come up with some way to denote nodes that might not be part of any edge as well), or  \n",
    "b) writing down only the nodes in a csv and planning to programmatically determine the edges."
   ]
  },
  {
   "cell_type": "markdown",
   "metadata": {},
   "source": [
    "### Creating a graph\n",
    "\n",
    "** 3) Create classes that you'll need to represent your data as a graph.  This likely includes a Graph class and Node classes.  You should think carefully about how best to include the data you've generated within the graph structure, e.g., you may want to consider associating one of the classes you generated for the previous part of the lab with a Node. **\n",
    "\n",
    "** 4) Create a way to programmatically read in your data into this Graph class and go ahead and create the graph. **\n",
    "\n",
    "** 5) Create a method as part of your Graph class that allows you to write the graph out to a file in the .dot format, and go ahead and write out your graph. **\n",
    "Here's a simple example of .dot format:\n",
    "\n",
    "graph {\n",
    "\n",
    "        a [label=\"what i want to appear in the node\"];  \n",
    "        b [label=\"another node's label\"];  \n",
    "        c [label=\"yet another node\"];  \n",
    "        a -- b;  \n",
    "        b -- c;  \n",
    "}\n",
    "\n",
    "For a later part you'll need to make sure that you don't display your classmate's names on the graphs but *do* display the attributes you've collected.\n",
    "\n",
    "If you want to have more advanced visualizations available in the next part, you can find further options [here](http://www.graphviz.org/content/dot-language) or look at this [gallery](http://www.graphviz.org/Gallery.php) for ideas."
   ]
  },
  {
   "cell_type": "markdown",
   "metadata": {},
   "source": [
    "## Visualizing graphs\n",
    "\n",
    "** 6) Create a .jpg version of your graph using this command on the command line in your terminal: ** \n",
    "\n",
    "    dot -Tjpg yourgraph.dot -o yourgraph.jpg\n",
    "\n",
    "** 7) Open the graph and compare it to your hand drawn version - what's the same?  What's different? **"
   ]
  },
  {
   "cell_type": "markdown",
   "metadata": {},
   "source": [
    "## Re-identification\n",
    "\n",
    "** 8) Show the graph to a classmate you interviewed.  Can they find themselves in the graph?  Can they find someone else? **"
   ]
  }
 ],
 "metadata": {
  "kernelspec": {
   "display_name": "Python 2",
   "language": "python",
   "name": "python2"
  },
  "language_info": {
   "codemirror_mode": {
    "name": "ipython",
    "version": 2
   },
   "file_extension": ".py",
   "mimetype": "text/x-python",
   "name": "python",
   "nbconvert_exporter": "python",
   "pygments_lexer": "ipython2",
   "version": "2.7.5"
  }
 },
 "nbformat": 4,
 "nbformat_minor": 0
}
