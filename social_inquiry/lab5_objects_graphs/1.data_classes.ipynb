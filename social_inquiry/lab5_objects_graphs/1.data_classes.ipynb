{
 "cells": [
  {
   "cell_type": "markdown",
   "metadata": {},
   "source": [
    "# 1. Classes and personal data"
   ]
  },
  {
   "cell_type": "markdown",
   "metadata": {},
   "source": [
    "## Designing data\n",
    "\n",
    "You will be collecting data about other people in this course (and any of your friends outside the course who are willing to participate).  You should include data from at least 20 people.  You can design and talk about your plan for this data collection with other people in this course.\n",
    "\n",
    "** 1) Decide what features you would like to collect about each person.  Be sure to collect their name and at least 5 other features.  Are these open-ended questions or numerical or categorical features?  But sure to include some binary, multiple choice, and/or numerical options.  Determine what type (float, string, etc) each result is.  Think about what interesting information you might be able to extract from this data once you have it, and make sure you ask questions that will allow you to determine something you find interesting.  Record the questions / features you plan to ask here along with a short explanation of why you chose these questions and this data representation (string, float, etc.). **"
   ]
  },
  {
   "cell_type": "markdown",
   "metadata": {},
   "source": [
    "** 2) Interview your classmates.  Collect the data and enter it as a csv.  Call the csv \"classmate_data.csv\" and put it in this directory.  If you include any participants from outside this course, make sure they understand that by answering your questions their data will be shared with the TAs and instructors.  **"
   ]
  },
  {
   "cell_type": "markdown",
   "metadata": {},
   "source": [
    "** 3) Explore your data by hand and describe your results of that here.  For each feature, what's the distribution of the data?  What attributes do people share? **"
   ]
  },
  {
   "cell_type": "markdown",
   "metadata": {},
   "source": [
    "** 4) How would your answers to the previous question have changed depending on what choices you made in designing your data / questions / answers? **"
   ]
  },
  {
   "cell_type": "markdown",
   "metadata": {},
   "source": [
    "## Designing data representations\n",
    "\n",
    "** 5) Determine how your data can best be represented as a class or classes.  Describe your choices here *before* implementing them.  You should consider:  **\n",
    "\n",
    "    a) Should there be one class or multiple classes and what should the inheritance structure be to best represent the data?  \n",
    "    b) Should there be class attributes and what are they?  \n",
    "    c) What attributes should each class have?  \n",
    "    d) What methods should each class have?  "
   ]
  },
  {
   "cell_type": "markdown",
   "metadata": {},
   "source": [
    "## Creating classes\n",
    "\n",
    "** 6) Create a class or classes to store your data.  If you realize that your data representation design should change, remember to go back to the previous question and re-consider and re-justify this choice. **"
   ]
  },
  {
   "cell_type": "markdown",
   "metadata": {},
   "source": [
    "** 7) Create a function to open your csv of data, read it in, and create all necessary objects. **"
   ]
  }
 ],
 "metadata": {
  "kernelspec": {
   "display_name": "Python 2",
   "language": "python",
   "name": "python2"
  },
  "language_info": {
   "codemirror_mode": {
    "name": "ipython",
    "version": 2
   },
   "file_extension": ".py",
   "mimetype": "text/x-python",
   "name": "python",
   "nbconvert_exporter": "python",
   "pygments_lexer": "ipython2",
   "version": "2.7.5"
  }
 },
 "nbformat": 4,
 "nbformat_minor": 0
}
