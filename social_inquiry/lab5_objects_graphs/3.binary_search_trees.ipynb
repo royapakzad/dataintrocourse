{
 "cells": [
  {
   "cell_type": "markdown",
   "metadata": {},
   "source": [
    "# 3. Binary search trees\n",
    "\n",
    "In this section you'll be making a binary search tree and putting your data into it.\n",
    "\n",
    "** 1) Make classes to store your binary search tree and the associated nodes.  You'll likely want to include some way to store the data class that you created in the first part of the lab as part of your nodes.  Note that while this is also a graph with nodes, it may or may not be appropriate to use the graph and node classes you created for the previous part of this lab depending on what attributes and functionality you included.  **"
   ]
  },
  {
   "cell_type": "markdown",
   "metadata": {},
   "source": [
    "** 2) Choose an attribute (or attributes) from your classmate's data to order by in your binary search tree.  Implement the __eq__, __ne__, __ge__, __gt__, __le__, and __lt__ operators so that you can determine, based on your chosen attribute, what the ordering should be of objects of your data class type. **"
   ]
  },
  {
   "cell_type": "markdown",
   "metadata": {},
   "source": [
    "** 3) Implement a binary search tree.  **"
   ]
  },
  {
   "cell_type": "markdown",
   "metadata": {},
   "source": [
    "** 4) Using your binary search tree, insert all of your collected data into the tree. Create a visual version of this tree using dot and the functions (or adaptations of them) that you created in the previous part of this lab.  Call your file \"BST.jpg\".  Be sure to git add and git commit this BST.jpg file.  **"
   ]
  },
  {
   "cell_type": "markdown",
   "metadata": {},
   "source": [
    "** 5) Create a method to print out the binary search tree in sorted order (also known as an \"in order\" traversal of the tree).  Call the method and show the sorted results below. **"
   ]
  }
 ],
 "metadata": {
  "kernelspec": {
   "display_name": "Python 2",
   "language": "python",
   "name": "python2"
  },
  "language_info": {
   "codemirror_mode": {
    "name": "ipython",
    "version": 2
   },
   "file_extension": ".py",
   "mimetype": "text/x-python",
   "name": "python",
   "nbconvert_exporter": "python",
   "pygments_lexer": "ipython2",
   "version": "2.7.5"
  }
 },
 "nbformat": 4,
 "nbformat_minor": 0
}
