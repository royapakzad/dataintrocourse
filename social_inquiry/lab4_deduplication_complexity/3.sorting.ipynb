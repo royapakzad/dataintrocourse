{
 "cells": [
  {
   "cell_type": "markdown",
   "metadata": {},
   "source": [
    "# 3. Deduplication part 2 - sorting\n",
    "\n",
    "The last method for deduplication that we'll look at involves sorting the data in order to check for duplicates.\n",
    "\n",
    "First, we'll need some functions that allow us to sort."
   ]
  },
  {
   "cell_type": "markdown",
   "metadata": {},
   "source": [
    "** 1) Write a function to perform a quicksort given a list of values. **"
   ]
  },
  {
   "cell_type": "markdown",
   "metadata": {},
   "source": [
    "In the quicksort function you wrote, you likely used a built in comparison operator (<=, <, >, or >=).  Sometimes, these built in functions don't work on the type of data that you'd like to sort.  For example, if you'd like to sort a list of dictionaries each item in your list is a dictionary, so you need some way of comparing two dictionaries to determine which one is \"less\".  Now that you know that we can pass functions into other functions, we can use this to pass a comparison function into quicksort to be used for these purposes.\n",
    "\n",
    "** 2) Modify your quicksort function so that it can take a list of any type, along with an optional comparison function. **\n",
    "\n",
    "You can make a parameter optional by giving it a default value in the function declaration.  This is the value that the parameter will take if no value is given by the user.  In this case, for quicksort, you would want the function to use a built in comparison operator if no comparison function is given by the user."
   ]
  },
  {
   "cell_type": "code",
   "execution_count": 4,
   "metadata": {
    "collapsed": false
   },
   "outputs": [],
   "source": [
    "def default_params(x = 3, y = None):\n",
    "    \"\"\"\n",
    "    An example function with default parameters.  Try calling it to see what happens!\n",
    "    \"\"\"\n",
    "    if y == None:\n",
    "        return x * 2\n",
    "    else:\n",
    "        return x * y"
   ]
  },
  {
   "cell_type": "markdown",
   "metadata": {},
   "source": [
    "Python has a built in sort command!  The sorted function will take a list, tuple, or dictionary of basic types and returns a sorted *list* of those values.  Note that it doesn't change the passed in data structure.  For example:"
   ]
  },
  {
   "cell_type": "code",
   "execution_count": 9,
   "metadata": {
    "collapsed": false
   },
   "outputs": [
    {
     "name": "stdout",
     "output_type": "stream",
     "text": [
      "[1, 1, 2, 2, 3, 5, 8]\n",
      "[3, 5, 2, 8, 1, 1, 2]\n",
      "['A', 'a', 'b', 'c', 'f']\n",
      "('b', 'a', 'c', 'f', 'A')\n",
      "[1, 2, 3, 5]\n",
      "{1: 'r', 2: 's', 3: 's', 5: 'e'}\n"
     ]
    }
   ],
   "source": [
    "list = [3, 5, 2, 8, 1, 1, 2]\n",
    "print sorted(list)\n",
    "print list\n",
    "\n",
    "tuple = (\"b\", \"a\", \"c\", \"f\", \"A\")\n",
    "print sorted(tuple)\n",
    "print tuple\n",
    "\n",
    "dict = {1:\"r\", 2:\"s\", 5:\"e\", 3:\"s\"}\n",
    "print sorted(dict)\n",
    "print dict"
   ]
  },
  {
   "cell_type": "markdown",
   "metadata": {},
   "source": [
    "Just like the quicksort function you just made, sorted takes an optional parameter called \"key\" that can be set to a function that provides the item that the sorting should take placed based on.  For example:"
   ]
  },
  {
   "cell_type": "code",
   "execution_count": 12,
   "metadata": {
    "collapsed": false
   },
   "outputs": [
    {
     "name": "stdout",
     "output_type": "stream",
     "text": [
      "[{'a': 3, 'special key': 1, 'b': 5}, {'a': 2, 'special key': 2, 'b': 3}, {'a': 3, 'c': 7, 'special key': 3}]\n"
     ]
    }
   ],
   "source": [
    "dict1 = {\"special key\":1, \"a\":3, \"b\":5}\n",
    "dict2 = {\"special key\":3, \"a\":3, \"c\":7}\n",
    "dict3 = {\"special key\":2, \"a\":2, \"b\":3}\n",
    "list_of_dicts = [dict1, dict2, dict3]\n",
    "\n",
    "def get_key_to_compare(dict):\n",
    "    return dict[\"special key\"]\n",
    "\n",
    "print sorted(list_of_dicts, key = get_key_to_compare)"
   ]
  },
  {
   "cell_type": "markdown",
   "metadata": {},
   "source": [
    "** 3) Sort the ProPublica data using both your quicksort function and the built in Python sorted command. **\n",
    "\n",
    "a) How long did each of them take to sort the data in both seconds and number of items worth of energy consumption?\n",
    "\n",
    "b) Which version is more efficient and why do you think this might be the case?\n",
    "\n",
    "Note that you may find it helpful to export part 2 as a module and import it, both for this question and for later ones."
   ]
  },
  {
   "cell_type": "markdown",
   "metadata": {},
   "source": [
    "** 4) The last method of deduplication we'll explore is sorting.  Write a function that counts the number of duplicates by first sorting the data (you may use either your quicksort method or the builtin function).  Note that the comparison method you use will play an important role in determining if you correctly find the duplicates - think back to the functions you developed in the last part of the lab. **"
   ]
  },
  {
   "cell_type": "markdown",
   "metadata": {
    "collapsed": true
   },
   "source": [
    "** 5) Compare all three methods of deduplication (all-pairs, dictionaries, sorting) on the ProPublica data.  Create three comparison graphs as you did at the end of the previous part of this lab.  Explain which method you find to be the most efficient and why. **"
   ]
  }
 ],
 "metadata": {
  "kernelspec": {
   "display_name": "Python 2",
   "language": "python",
   "name": "python2"
  },
  "language_info": {
   "codemirror_mode": {
    "name": "ipython",
    "version": 2
   },
   "file_extension": ".py",
   "mimetype": "text/x-python",
   "name": "python",
   "nbconvert_exporter": "python",
   "pygments_lexer": "ipython2",
   "version": "2.7.5"
  }
 },
 "nbformat": 4,
 "nbformat_minor": 0
}
