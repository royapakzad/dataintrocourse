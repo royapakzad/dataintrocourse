{
 "cells": [
  {
   "cell_type": "markdown",
   "metadata": {},
   "source": [
    "# 1. Complexity and Energy Consumption\n",
    "\n",
    "In this lab, we'll be exploring the relationship between computational complexity - the efficiency of the programs we write - and the energy consumption our programs use.  An important initial caveat - the calculations we'll be doing here are really \"back of the envelope\" style calculations.  They're an estimate, and may actually be far from the real values, but hopefully they'll give us a sense of how computational complexity relates to energy consumption.\n",
    "\n",
    "A few initial reminders / things to know for the less physics savvy among us:\n",
    "* Watts (W) - watts are a measure of *power* and they meausre Joules per second.\n",
    "\n",
    "* Watt Hours (Wh) - watt-hours are a measure of *energy* consumption and they measure watts used in an hour.\n",
    "\n",
    "Note also that we'll be converting from seconds used to energy consumption (watt hours).  Computational complexity is more often measured *not* based on seconds, since the seconds used can vary from computer to computer, but based on *computation steps* used.  If we were going to convert that to energy consumption, we'd first need to determine the performance per watt (number of computation steps per watt) that our computer could perform.\n",
    "\n",
    "Let's start off by setting up a few global variables with set values that will be useful in this lab.  We usually put these global variables at the top of a library and name them in all caps to make it clear that the values don't vary."
   ]
  },
  {
   "cell_type": "code",
   "execution_count": 17,
   "metadata": {
    "collapsed": false
   },
   "outputs": [],
   "source": [
    "# Global variables\n",
    "\n",
    "# The number of watts used by the computer we're running experiments on.  You can use the default value below,\n",
    "# or look up the correct value for the computer you're using and replace the value below with that.\n",
    "COMPUTER_ENERGY_WATTS = 200.0"
   ]
  },
  {
   "cell_type": "markdown",
   "metadata": {},
   "source": [
    "** 1) Find something that consumes (a small amount of) energy and determine how many watt-hours that uses.  For example, you might find the number of watt-hours it takes to make a cup of coffee.  Make a global variable for this amount above.  In later parts of the lab you'll be expressing your programming work in, e.g., energy it would take to make a cup of coffee. **\n",
    "\n",
    "** 2) We'll be determining the complexity of a program by timing it.  Make a function that takes a floating point number of seconds and returns the number of watt-hours consumed.  **"
   ]
  },
  {
   "cell_type": "markdown",
   "metadata": {},
   "source": [
    "** 3) Make a function that computes the number of the item you've chosen above (e.g., cups of coffee) that could be achieved with a given amount of energy (watt-hours).  Then use that to make another function that takes seconds of computation time and returns the number of your chosen items that could be achieved. **"
   ]
  },
  {
   "cell_type": "markdown",
   "metadata": {},
   "source": [
    "Now that we can convert computation seconds used to units of something (e.g., cups of coffee), we can determine how many of these thing could be created from the energy that one of our programs uses!  In order to do that, we'll need to be able to determine the number of seconds taken by a program.  We'd like to be able to write a function that takes another function as input and returns the amount of time (in seconds) it took for that function to run.\n",
    "\n",
    "In Python, it's easy to pass a function to another function as input!"
   ]
  },
  {
   "cell_type": "code",
   "execution_count": 24,
   "metadata": {
    "collapsed": false
   },
   "outputs": [
    {
     "name": "stdout",
     "output_type": "stream",
     "text": [
      "7\n"
     ]
    }
   ],
   "source": [
    "def execute_another_function(function, function_input):\n",
    "    \"\"\"\n",
    "    A function that takes another function as input, along with the single parameter to that function, and\n",
    "    returns the result of running the given function on the given input.\n",
    "    \"\"\"\n",
    "    return function(function_input)\n",
    "\n",
    "def function_to_send(x):\n",
    "    return x + 2\n",
    "\n",
    "print execute_another_function(function_to_send, 5)"
   ]
  },
  {
   "cell_type": "markdown",
   "metadata": {},
   "source": [
    "** 4) Create a function that takes another function as input, along with the input to that function, times the function when run on the given input, and returns the total amount of time it took to run in seconds.  Getting the precise time of a specific function is tricky, since there are other things being run on your computer at the same time.  To mitigate some of this issue, run the given function multiple times and return the average number of seconds taken by the function.  You should take the number of runs as an additional parameter to the function you write. **\n",
    "\n",
    "*Hint: you'll find the timing functions you need in the time Python library.*"
   ]
  },
  {
   "cell_type": "markdown",
   "metadata": {},
   "source": [
    "We'll be trying out these functions and analyses on more interesting questions later in this lab, but for now let's put all of this together by analyzing the running time of the Fibonacci function.\n",
    "\n",
    "** 5) Create a function that returns the nth Fibonacci value when given n.  Then use the functions you've built to time the function and convert it to the number of other things that could have been created using that energy (e.g., cups of coffee).  Display:**\n",
    "\n",
    "    a) The number of seconds it takes to calculate the 500th Fibonacci value.\n",
    "\n",
    "    b) The number of items that could be created using that amount of energy.\n",
    "\n",
    "    c) A plot showing the value of n on the x-axis versus the number of items on the y-axis.\n",
    "\n",
    "Recall that using seaborn's regplot you can plot x versus y in the following way:\n",
    "\n",
    "> import seaborn  \n",
    "> %pylab inline  \n",
    "> import numpy\n",
    "> x_list = [1, 2]  \n",
    "> y_list = [3, 4]  \n",
    "> x = numpy.array(x_list)  \n",
    "> y = numpy.array(y_list)  \n",
    "> data = {\"x\":x, \"y\":y}  \n",
    "> seaborn.regplot(x=\"x\", y=\"y\", data=data)\n",
    "\n",
    "You should play around with the best fit \"line\" options in regplot and see if you can find one that fits well - one of the useful options for this is order=n where n is some integer value.  This is the order of the function that regplot fits - the default is 1."
   ]
  },
  {
   "cell_type": "markdown",
   "metadata": {},
   "source": [
    "** 6) We'll need these functions in later parts of this lab.  Make this part of the lab into a module so that you can import it easiliy into the later parts of the lab. **\n",
    "\n",
    "Remember that module names can't start with numbers, so you'll need to download this .ipynb file as a .py file, put it in this directory, and rename it."
   ]
  }
 ],
 "metadata": {
  "kernelspec": {
   "display_name": "Python 2",
   "language": "python",
   "name": "python2"
  },
  "language_info": {
   "codemirror_mode": {
    "name": "ipython",
    "version": 2
   },
   "file_extension": ".py",
   "mimetype": "text/x-python",
   "name": "python",
   "nbconvert_exporter": "python",
   "pygments_lexer": "ipython2",
   "version": "2.7.5"
  }
 },
 "nbformat": 4,
 "nbformat_minor": 0
}
